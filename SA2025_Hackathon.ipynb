{
 "cells": [
  {
   "cell_type": "code",
   "execution_count": 2,
   "id": "8519b75f",
   "metadata": {},
   "outputs": [],
   "source": [
    "import pandas as pd\n",
    "import numpy as np\n",
    "from sklearn.linear_model import LogisticRegression\n",
    "from sklearn.model_selection import train_test_split\n",
    "from sklearn.preprocessing import LabelEncoder, RobustScaler\n",
    "from sklearn.metrics import accuracy_score\n",
    "\n",
    "# Load CSVs\n",
    "train_df = pd.read_csv('hacktrain.csv')\n",
    "test_df = pd.read_csv('hacktest.csv')\n",
    "\n",
    "# Extract target and features\n",
    "y_raw = train_df['class']\n",
    "X_train_raw = train_df.drop(['ID', 'class'], axis=1)\n",
    "X_test_raw = test_df.drop(['ID'], axis=1)\n",
    "test_ids = test_df['ID']\n"
   ]
  },
  {
   "cell_type": "code",
   "execution_count": 3,
   "id": "0a5f0f5b",
   "metadata": {},
   "outputs": [],
   "source": [
    "def clean_ndvi_row(row):\n",
    "    row = row.ffill().bfill()\n",
    "    q1, q3 = row.quantile(0.25), row.quantile(0.75)\n",
    "    iqr = q3 - q1\n",
    "    lower, upper = q1 - 1.5 * iqr, q3 + 1.5 * iqr\n",
    "    median = row.median()\n",
    "    return row.apply(lambda x: median if x < lower or x > upper else x)\n",
    "\n",
    "# Train: aggressive denoising\n",
    "X_train_cleaned = X_train_raw.apply(clean_ndvi_row, axis=1)\n",
    "\n",
    "# Test: only fill NaNs\n",
    "X_test_cleaned = X_test_raw.apply(lambda row: row.ffill().bfill(), axis=1)\n"
   ]
  },
  {
   "cell_type": "code",
   "execution_count": 4,
   "id": "4de4a94f",
   "metadata": {},
   "outputs": [],
   "source": [
    "def extract_features(df):\n",
    "    feat = pd.DataFrame(index=df.index)\n",
    "\n",
    "    feat['mean'] = df.mean(axis=1)\n",
    "    feat['median'] = df.median(axis=1)\n",
    "    feat['std'] = df.std(axis=1)\n",
    "    feat['min'] = df.min(axis=1)\n",
    "    feat['max'] = df.max(axis=1)\n",
    "    feat['range'] = feat['max'] - feat['min']\n",
    "    feat['iqr'] = df.quantile(0.75, axis=1) - df.quantile(0.25, axis=1)\n",
    "\n",
    "    # Trend across full season\n",
    "    feat['trend'] = df.apply(lambda row: np.polyfit(range(len(row)), row, 1)[0], axis=1)\n",
    "\n",
    "    # Early vs late season change\n",
    "    feat['start'] = df.iloc[:, :5].mean(axis=1)\n",
    "    feat['end'] = df.iloc[:, -5:].mean(axis=1)\n",
    "    feat['season_diff'] = feat['end'] - feat['start']\n",
    "\n",
    "    # Slope shift: early half vs late half\n",
    "    def slope(row, start, end):\n",
    "        return np.polyfit(range(start, end), row[start:end], 1)[0]\n",
    "\n",
    "    feat['early_slope'] = df.apply(lambda row: slope(row, 0, len(row)//2), axis=1)\n",
    "    feat['late_slope'] = df.apply(lambda row: slope(row, len(row)//2, len(row)), axis=1)\n",
    "    feat['slope_diff'] = feat['late_slope'] - feat['early_slope']\n",
    "\n",
    "    # Peaks (abrupt changes — indicates vegetation cycles or clouds)\n",
    "    feat['n_peaks'] = df.apply(lambda row: np.sum(np.abs(np.diff(row)) > 0.15), axis=1)\n",
    "\n",
    "    return feat\n",
    "\n",
    "# Extract features\n",
    "X_train_feat = extract_features(X_train_cleaned)\n",
    "X_test_feat = extract_features(X_test_cleaned)\n"
   ]
  },
  {
   "cell_type": "code",
   "execution_count": 6,
   "id": "348d2299",
   "metadata": {},
   "outputs": [],
   "source": [
    "# Encode target classes\n",
    "label_encoder = LabelEncoder()\n",
    "y_encoded = label_encoder.fit_transform(y_raw)\n",
    "\n",
    "# Scale to protect against outliers\n",
    "scaler = RobustScaler()\n",
    "X_train_scaled = scaler.fit_transform(X_train_feat)\n",
    "X_test_scaled = scaler.transform(X_test_feat)\n",
    "\n",
    "# Stratified split for validation accuracy check\n",
    "X_tr, X_val, y_tr, y_val = train_test_split(\n",
    "    X_train_scaled, y_encoded,\n",
    "    test_size=0.2, stratify=y_encoded, random_state=42\n",
    ")\n"
   ]
  },
  {
   "cell_type": "code",
   "execution_count": 7,
   "id": "7623765f",
   "metadata": {},
   "outputs": [
    {
     "name": "stderr",
     "output_type": "stream",
     "text": [
      "d:\\New2\\Lib\\site-packages\\sklearn\\linear_model\\_logistic.py:1247: FutureWarning: 'multi_class' was deprecated in version 1.5 and will be removed in 1.7. From then on, it will always use 'multinomial'. Leave it to its default value to avoid this warning.\n",
      "  warnings.warn(\n"
     ]
    },
    {
     "name": "stdout",
     "output_type": "stream",
     "text": [
      "✅ Validation Accuracy: 0.7987\n"
     ]
    }
   ],
   "source": [
    "# Best tuned LR for generalization\n",
    "model = LogisticRegression(\n",
    "    multi_class='multinomial',\n",
    "    solver='lbfgs',\n",
    "    C=10,                        # less regularization → better fit\n",
    "    max_iter=2000,              # allow convergence\n",
    "    class_weight='balanced',    # handles noisy or imbalanced labels\n",
    "    random_state=42\n",
    ")\n",
    "\n",
    "model.fit(X_tr, y_tr)\n",
    "\n",
    "# Validate\n",
    "val_preds = model.predict(X_val)\n",
    "val_acc = accuracy_score(y_val, val_preds)\n",
    "print(f\"✅ Validation Accuracy: {val_acc:.4f}\")\n"
   ]
  },
  {
   "cell_type": "code",
   "execution_count": 8,
   "id": "26e883bc",
   "metadata": {},
   "outputs": [
    {
     "name": "stdout",
     "output_type": "stream",
     "text": [
      "📁 Submission saved as 'submission.csv'\n"
     ]
    }
   ],
   "source": [
    "# Final test predictions\n",
    "test_preds = model.predict(X_test_scaled)\n",
    "test_labels = label_encoder.inverse_transform(test_preds)\n",
    "\n",
    "# Save submission\n",
    "submission = pd.DataFrame({\n",
    "    'ID': test_ids,\n",
    "    'class': test_labels\n",
    "})\n",
    "submission.to_csv('submission3.csv', index=False)\n",
    "print(\"📁 Submission saved as 'submission.csv'\")\n"
   ]
  }
 ],
 "metadata": {
  "kernelspec": {
   "display_name": "base",
   "language": "python",
   "name": "python3"
  },
  "language_info": {
   "codemirror_mode": {
    "name": "ipython",
    "version": 3
   },
   "file_extension": ".py",
   "mimetype": "text/x-python",
   "name": "python",
   "nbconvert_exporter": "python",
   "pygments_lexer": "ipython3",
   "version": "3.12.7"
  }
 },
 "nbformat": 4,
 "nbformat_minor": 5
}
